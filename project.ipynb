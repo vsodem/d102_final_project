{
 "cells": [
  {
   "cell_type": "code",
   "execution_count": 7,
   "metadata": {},
   "outputs": [],
   "source": [
    "import pandas as pd\n",
    "import numpy as np\n",
    "import matplotlib.pyplot as plt\n",
    "import seaborn as sns"
   ]
  },
  {
   "cell_type": "markdown",
   "metadata": {},
   "source": [
    "# Final Project - EDA"
   ]
  },
  {
   "cell_type": "code",
   "execution_count": 2,
   "metadata": {},
   "outputs": [],
   "source": [
    "dem = pd.read_csv('dem_candidates.csv')\n",
    "rep = pd.read_csv('rep_candidates.csv')"
   ]
  },
  {
   "cell_type": "code",
   "execution_count": 12,
   "metadata": {},
   "outputs": [
    {
     "data": {
      "text/plain": [
       "[(0, 'Candidate'),\n",
       " (1, 'State'),\n",
       " (2, 'District'),\n",
       " (3, 'Office Type'),\n",
       " (4, 'Race Type'),\n",
       " (5, 'Race Primary Election Date'),\n",
       " (6, 'Primary Status'),\n",
       " (7, 'Primary Runoff Status'),\n",
       " (8, 'General Status'),\n",
       " (9, 'Partisan Lean'),\n",
       " (10, 'Primary %'),\n",
       " (11, 'Won Primary'),\n",
       " (12, 'Race'),\n",
       " (13, 'Veteran?'),\n",
       " (14, 'LGBTQ?'),\n",
       " (15, 'Elected Official?'),\n",
       " (16, 'Self-Funder?'),\n",
       " (17, 'STEM?'),\n",
       " (18, 'Obama Alum?'),\n",
       " (19, 'Party Support?'),\n",
       " (20, 'Emily Endorsed?'),\n",
       " (21, 'Guns Sense Candidate?'),\n",
       " (22, 'Biden Endorsed?'),\n",
       " (23, 'Warren Endorsed? '),\n",
       " (24, 'Sanders Endorsed?'),\n",
       " (25, 'Our Revolution Endorsed?'),\n",
       " (26, 'Justice Dems Endorsed?'),\n",
       " (27, 'PCCC Endorsed?'),\n",
       " (28, 'Indivisible Endorsed?'),\n",
       " (29, 'WFP Endorsed?'),\n",
       " (30, 'VoteVets Endorsed?'),\n",
       " (31, 'No Labels Support?'),\n",
       " (32, 'Total Endorsements'),\n",
       " (33, 'Party')]"
      ]
     },
     "execution_count": 12,
     "metadata": {},
     "output_type": "execute_result"
    }
   ],
   "source": [
    "list(enumerate(dem.columns))"
   ]
  },
  {
   "cell_type": "code",
   "execution_count": 8,
   "metadata": {},
   "outputs": [],
   "source": [
    "# f\n",
    "dem['General Status'] = dem['General Status'].fillna('None')\n",
    "# k\n",
    "dem.iloc[:, 13:] = dem.iloc[:, 13:].fillna('No').replace({'Yes': 1, 'No': 0})\n",
    "dem['Total Endorsements'] = dem.iloc[:, 13:].sum(axis=1)\n",
    "dem['Party'] = 'D'"
   ]
  },
  {
   "cell_type": "code",
   "execution_count": 11,
   "metadata": {},
   "outputs": [
    {
     "data": {
      "text/plain": [
       "[(0, 'Candidate'),\n",
       " (1, 'State'),\n",
       " (2, 'District'),\n",
       " (3, 'Office Type'),\n",
       " (4, 'Race Type'),\n",
       " (5, 'Race Primary Election Date'),\n",
       " (6, 'Primary Status'),\n",
       " (7, 'Primary Runoff Status'),\n",
       " (8, 'General Status'),\n",
       " (9, 'Primary %'),\n",
       " (10, 'Won Primary'),\n",
       " (11, 'Rep Party Support?'),\n",
       " (12, 'Trump Endorsed?'),\n",
       " (13, 'Bannon Endorsed?'),\n",
       " (14, 'Great America Endorsed?'),\n",
       " (15, 'NRA Endorsed?'),\n",
       " (16, 'Right to Life Endorsed?'),\n",
       " (17, 'Susan B. Anthony Endorsed?'),\n",
       " (18, 'Club for Growth Endorsed?'),\n",
       " (19, 'Koch Support?'),\n",
       " (20, 'House Freedom Support?'),\n",
       " (21, 'Tea Party Endorsed?'),\n",
       " (22, 'Main Street Endorsed?'),\n",
       " (23, 'Chamber Endorsed?'),\n",
       " (24, 'No Labels Support?'),\n",
       " (25, 'Total Endorsements'),\n",
       " (26, 'Party')]"
      ]
     },
     "execution_count": 11,
     "metadata": {},
     "output_type": "execute_result"
    }
   ],
   "source": [
    "list(enumerate(rep.columns))"
   ]
  },
  {
   "cell_type": "code",
   "execution_count": 10,
   "metadata": {},
   "outputs": [],
   "source": [
    "rep['General Status'] = rep['General Status'].fillna('None')\n",
    "rep.iloc[:, 11:] = rep.iloc[:, 11:].fillna('No').replace({'Yes': 1, 'No': 0})\n",
    "rep['Total Endorsements'] = rep.iloc[:, 11:].sum(axis=1)\n",
    "rep['Party'] = 'R'"
   ]
  },
  {
   "cell_type": "code",
   "execution_count": 14,
   "metadata": {},
   "outputs": [
    {
     "data": {
      "text/html": [
       "<div>\n",
       "<style scoped>\n",
       "    .dataframe tbody tr th:only-of-type {\n",
       "        vertical-align: middle;\n",
       "    }\n",
       "\n",
       "    .dataframe tbody tr th {\n",
       "        vertical-align: top;\n",
       "    }\n",
       "\n",
       "    .dataframe thead th {\n",
       "        text-align: right;\n",
       "    }\n",
       "</style>\n",
       "<table border=\"1\" class=\"dataframe\">\n",
       "  <thead>\n",
       "    <tr style=\"text-align: right;\">\n",
       "      <th></th>\n",
       "      <th>Candidate</th>\n",
       "      <th>State</th>\n",
       "      <th>District</th>\n",
       "      <th>Office Type</th>\n",
       "      <th>Race Type</th>\n",
       "      <th>Race Primary Election Date</th>\n",
       "      <th>Primary Status</th>\n",
       "      <th>Primary Runoff Status</th>\n",
       "      <th>General Status</th>\n",
       "      <th>Partisan Lean</th>\n",
       "      <th>...</th>\n",
       "      <th>Great America Endorsed?</th>\n",
       "      <th>NRA Endorsed?</th>\n",
       "      <th>Right to Life Endorsed?</th>\n",
       "      <th>Susan B. Anthony Endorsed?</th>\n",
       "      <th>Club for Growth Endorsed?</th>\n",
       "      <th>Koch Support?</th>\n",
       "      <th>House Freedom Support?</th>\n",
       "      <th>Tea Party Endorsed?</th>\n",
       "      <th>Main Street Endorsed?</th>\n",
       "      <th>Chamber Endorsed?</th>\n",
       "    </tr>\n",
       "  </thead>\n",
       "  <tbody>\n",
       "  </tbody>\n",
       "</table>\n",
       "<p>0 rows × 47 columns</p>\n",
       "</div>"
      ],
      "text/plain": [
       "Empty DataFrame\n",
       "Columns: [Candidate, State, District, Office Type, Race Type, Race Primary Election Date, Primary Status, Primary Runoff Status, General Status, Partisan Lean, Primary %, Won Primary, Race, Veteran?, LGBTQ?, Elected Official?, Self-Funder?, STEM?, Obama Alum?, Party Support?, Emily Endorsed?, Guns Sense Candidate?, Biden Endorsed?, Warren Endorsed? , Sanders Endorsed?, Our Revolution Endorsed?, Justice Dems Endorsed?, PCCC Endorsed?, Indivisible Endorsed?, WFP Endorsed?, VoteVets Endorsed?, No Labels Support?, Total Endorsements, Party, Rep Party Support?, Trump Endorsed?, Bannon Endorsed?, Great America Endorsed?, NRA Endorsed?, Right to Life Endorsed?, Susan B. Anthony Endorsed?, Club for Growth Endorsed?, Koch Support?, House Freedom Support?, Tea Party Endorsed?, Main Street Endorsed?, Chamber Endorsed?]\n",
       "Index: []\n",
       "\n",
       "[0 rows x 47 columns]"
      ]
     },
     "execution_count": 14,
     "metadata": {},
     "output_type": "execute_result"
    }
   ],
   "source": [
    "pd.concat(dem, rep, how=)#dem.merge(rep, how='inner')"
   ]
  },
  {
   "cell_type": "markdown",
   "metadata": {},
   "source": [
    "## RQ1: Does having a higher number of endorsements cause a greater share of votes in primary elections?"
   ]
  },
  {
   "cell_type": "markdown",
   "metadata": {},
   "source": [
    "### Total Endorsements vs. % of Votes"
   ]
  },
  {
   "cell_type": "code",
   "execution_count": 5,
   "metadata": {},
   "outputs": [
    {
     "name": "stdout",
     "output_type": "stream",
     "text": [
      "EDA\n"
     ]
    }
   ],
   "source": []
  },
  {
   "cell_type": "markdown",
   "metadata": {},
   "source": [
    "## Research Question 2"
   ]
  },
  {
   "cell_type": "markdown",
   "metadata": {},
   "source": [
    "### Looking at the dataset of endorsements with candidates’ affiliation (e.g. veteran, LGBTQ+, etc.), what is the chance that the candidate will win the Democratic primary based on these features?"
   ]
  },
  {
   "cell_type": "code",
   "execution_count": 6,
   "metadata": {},
   "outputs": [
    {
     "name": "stdout",
     "output_type": "stream",
     "text": [
      "more EDA\n"
     ]
    }
   ],
   "source": [
    "print('more EDA')"
   ]
  },
  {
   "cell_type": "code",
   "execution_count": null,
   "metadata": {},
   "outputs": [],
   "source": []
  }
 ],
 "metadata": {
  "kernelspec": {
   "display_name": "Python 3",
   "language": "python",
   "name": "python3"
  },
  "language_info": {
   "codemirror_mode": {
    "name": "ipython",
    "version": 3
   },
   "file_extension": ".py",
   "mimetype": "text/x-python",
   "name": "python",
   "nbconvert_exporter": "python",
   "pygments_lexer": "ipython3",
   "version": "3.7.3"
  }
 },
 "nbformat": 4,
 "nbformat_minor": 4
}
